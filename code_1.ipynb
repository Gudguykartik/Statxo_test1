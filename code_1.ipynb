{
 "cells": [
  {
   "cell_type": "code",
   "execution_count": 1,
   "metadata": {},
   "outputs": [],
   "source": [
    "##!pip install openpyxl"
   ]
  },
  {
   "cell_type": "markdown",
   "metadata": {},
   "source": [
    "#### Q1.Write a code to import  Dataframe in Python"
   ]
  },
  {
   "cell_type": "code",
   "execution_count": 2,
   "metadata": {},
   "outputs": [],
   "source": [
    "import pandas as pd\n",
    "\n",
    "# range of rows and columns\n",
    "start_row = 4   \n",
    "end_row = 17    \n",
    "columns = 'B:L' \n",
    "\n",
    "# Reading the Excel file with the specified range\n",
    "xls = pd.read_excel('Test Case.xlsx', engine=\"openpyxl\", sheet_name='Python Test', usecols=columns, skiprows=start_row, nrows=end_row - start_row + 1)\n"
   ]
  },
  {
   "cell_type": "code",
   "execution_count": 3,
   "metadata": {},
   "outputs": [
    {
     "data": {
      "text/html": [
       "<div>\n",
       "<style scoped>\n",
       "    .dataframe tbody tr th:only-of-type {\n",
       "        vertical-align: middle;\n",
       "    }\n",
       "\n",
       "    .dataframe tbody tr th {\n",
       "        vertical-align: top;\n",
       "    }\n",
       "\n",
       "    .dataframe thead th {\n",
       "        text-align: right;\n",
       "    }\n",
       "</style>\n",
       "<table border=\"1\" class=\"dataframe\">\n",
       "  <thead>\n",
       "    <tr style=\"text-align: right;\">\n",
       "      <th></th>\n",
       "      <th>Emp ID</th>\n",
       "      <th>Region</th>\n",
       "      <th>Name</th>\n",
       "      <th>Department</th>\n",
       "      <th>Month</th>\n",
       "      <th>Year</th>\n",
       "      <th>Sales</th>\n",
       "      <th>Discounts</th>\n",
       "      <th>Date</th>\n",
       "      <th>%Sales</th>\n",
       "      <th>% Discount</th>\n",
       "    </tr>\n",
       "  </thead>\n",
       "  <tbody>\n",
       "    <tr>\n",
       "      <th>0</th>\n",
       "      <td>10001</td>\n",
       "      <td>East</td>\n",
       "      <td>DeRusha, Joe</td>\n",
       "      <td>5255-Data/Connectivity Sales</td>\n",
       "      <td>Jan</td>\n",
       "      <td>FY13</td>\n",
       "      <td>100000</td>\n",
       "      <td>25000</td>\n",
       "      <td>24-01-2023</td>\n",
       "      <td>NaN</td>\n",
       "      <td>NaN</td>\n",
       "    </tr>\n",
       "    <tr>\n",
       "      <th>1</th>\n",
       "      <td>10002</td>\n",
       "      <td>East</td>\n",
       "      <td>De Pasquale, Richard</td>\n",
       "      <td>5256-Sales Mgt &amp; Support</td>\n",
       "      <td>Jan</td>\n",
       "      <td>FY13</td>\n",
       "      <td>150000</td>\n",
       "      <td>30000</td>\n",
       "      <td>2023-01-01 00:00:00</td>\n",
       "      <td>NaN</td>\n",
       "      <td>NaN</td>\n",
       "    </tr>\n",
       "    <tr>\n",
       "      <th>2</th>\n",
       "      <td>10003</td>\n",
       "      <td>East</td>\n",
       "      <td>Dobbert, Susan</td>\n",
       "      <td>5257-Auto Sales</td>\n",
       "      <td>Jan</td>\n",
       "      <td>FY13</td>\n",
       "      <td>200000</td>\n",
       "      <td>35000</td>\n",
       "      <td>2023-01-08 00:00:00</td>\n",
       "      <td>NaN</td>\n",
       "      <td>NaN</td>\n",
       "    </tr>\n",
       "    <tr>\n",
       "      <th>3</th>\n",
       "      <td>10001</td>\n",
       "      <td>East</td>\n",
       "      <td>DeRusha, Joe</td>\n",
       "      <td>5255-Data/Connectivity Sales</td>\n",
       "      <td>Jan</td>\n",
       "      <td>FY13</td>\n",
       "      <td>100000</td>\n",
       "      <td>25000</td>\n",
       "      <td>2023-01-28 00:00:00</td>\n",
       "      <td>NaN</td>\n",
       "      <td>NaN</td>\n",
       "    </tr>\n",
       "    <tr>\n",
       "      <th>4</th>\n",
       "      <td>10002</td>\n",
       "      <td>East</td>\n",
       "      <td>De Pasquale, Richard</td>\n",
       "      <td>5256-Sales Mgt &amp; Support</td>\n",
       "      <td>Jan</td>\n",
       "      <td>FY13</td>\n",
       "      <td>150000</td>\n",
       "      <td>30000</td>\n",
       "      <td>2023-01-21 00:00:00</td>\n",
       "      <td>NaN</td>\n",
       "      <td>NaN</td>\n",
       "    </tr>\n",
       "    <tr>\n",
       "      <th>5</th>\n",
       "      <td>10003</td>\n",
       "      <td>East</td>\n",
       "      <td>Dobbert, Susan</td>\n",
       "      <td>5257-Auto Sales</td>\n",
       "      <td>Jan</td>\n",
       "      <td>FY13</td>\n",
       "      <td>200000</td>\n",
       "      <td>35000</td>\n",
       "      <td>2023-01-23 00:00:00</td>\n",
       "      <td>NaN</td>\n",
       "      <td>NaN</td>\n",
       "    </tr>\n",
       "    <tr>\n",
       "      <th>6</th>\n",
       "      <td>10005</td>\n",
       "      <td>West</td>\n",
       "      <td>Dunton, Donna</td>\n",
       "      <td>5259-Sales Channel</td>\n",
       "      <td>Jan</td>\n",
       "      <td>FY13</td>\n",
       "      <td>300000</td>\n",
       "      <td>45000</td>\n",
       "      <td>2023-01-14 00:00:00</td>\n",
       "      <td>NaN</td>\n",
       "      <td>NaN</td>\n",
       "    </tr>\n",
       "  </tbody>\n",
       "</table>\n",
       "</div>"
      ],
      "text/plain": [
       "   Emp ID Region                  Name                    Department Month  \\\n",
       "0   10001   East          DeRusha, Joe  5255-Data/Connectivity Sales   Jan   \n",
       "1   10002   East  De Pasquale, Richard      5256-Sales Mgt & Support   Jan   \n",
       "2   10003   East        Dobbert, Susan               5257-Auto Sales   Jan   \n",
       "3   10001   East          DeRusha, Joe  5255-Data/Connectivity Sales   Jan   \n",
       "4   10002   East  De Pasquale, Richard      5256-Sales Mgt & Support   Jan   \n",
       "5   10003   East        Dobbert, Susan               5257-Auto Sales   Jan   \n",
       "6   10005   West         Dunton, Donna            5259-Sales Channel   Jan   \n",
       "\n",
       "   Year   Sales  Discounts                 Date  %Sales  % Discount  \n",
       "0  FY13  100000      25000           24-01-2023     NaN         NaN  \n",
       "1  FY13  150000      30000  2023-01-01 00:00:00     NaN         NaN  \n",
       "2  FY13  200000      35000  2023-01-08 00:00:00     NaN         NaN  \n",
       "3  FY13  100000      25000  2023-01-28 00:00:00     NaN         NaN  \n",
       "4  FY13  150000      30000  2023-01-21 00:00:00     NaN         NaN  \n",
       "5  FY13  200000      35000  2023-01-23 00:00:00     NaN         NaN  \n",
       "6  FY13  300000      45000  2023-01-14 00:00:00     NaN         NaN  "
      ]
     },
     "execution_count": 3,
     "metadata": {},
     "output_type": "execute_result"
    }
   ],
   "source": [
    "xls.head(7)"
   ]
  },
  {
   "cell_type": "markdown",
   "metadata": {},
   "source": [
    "#### Q2.Write the code to find unique Name in above table"
   ]
  },
  {
   "cell_type": "code",
   "execution_count": 4,
   "metadata": {},
   "outputs": [
    {
     "name": "stdout",
     "output_type": "stream",
     "text": [
      "['DeRusha, Joe' 'De Pasquale, Richard' 'Dobbert, Susan' 'Dunton, Donna'\n",
      " 'De Sousa, Kristi' 'Dillard, Susan' 'De Vries, John' 'Defonso, Daniel']\n"
     ]
    }
   ],
   "source": [
    "# Get unique names\n",
    "unique_names = xls['Name'].unique()\n",
    "\n",
    "print(unique_names)"
   ]
  },
  {
   "cell_type": "markdown",
   "metadata": {},
   "source": [
    "#### Write the code to find top 3 sales with Name and Department?"
   ]
  },
  {
   "cell_type": "code",
   "execution_count": 5,
   "metadata": {},
   "outputs": [
    {
     "data": {
      "text/html": [
       "<div>\n",
       "<style scoped>\n",
       "    .dataframe tbody tr th:only-of-type {\n",
       "        vertical-align: middle;\n",
       "    }\n",
       "\n",
       "    .dataframe tbody tr th {\n",
       "        vertical-align: top;\n",
       "    }\n",
       "\n",
       "    .dataframe thead th {\n",
       "        text-align: right;\n",
       "    }\n",
       "</style>\n",
       "<table border=\"1\" class=\"dataframe\">\n",
       "  <thead>\n",
       "    <tr style=\"text-align: right;\">\n",
       "      <th></th>\n",
       "      <th>Name</th>\n",
       "      <th>Department</th>\n",
       "      <th>Sales</th>\n",
       "    </tr>\n",
       "  </thead>\n",
       "  <tbody>\n",
       "    <tr>\n",
       "      <th>1</th>\n",
       "      <td>De Sousa, Kristi</td>\n",
       "      <td>5263-Sales Support</td>\n",
       "      <td>800000</td>\n",
       "    </tr>\n",
       "    <tr>\n",
       "      <th>7</th>\n",
       "      <td>Dunton, Donna</td>\n",
       "      <td>5259-Sales Channel</td>\n",
       "      <td>600000</td>\n",
       "    </tr>\n",
       "    <tr>\n",
       "      <th>4</th>\n",
       "      <td>Defonso, Daniel</td>\n",
       "      <td>5264-ARD Sales</td>\n",
       "      <td>450000</td>\n",
       "    </tr>\n",
       "  </tbody>\n",
       "</table>\n",
       "</div>"
      ],
      "text/plain": [
       "               Name          Department   Sales\n",
       "1  De Sousa, Kristi  5263-Sales Support  800000\n",
       "7     Dunton, Donna  5259-Sales Channel  600000\n",
       "4   Defonso, Daniel      5264-ARD Sales  450000"
      ]
     },
     "execution_count": 5,
     "metadata": {},
     "output_type": "execute_result"
    }
   ],
   "source": [
    "top3_sales = xls.groupby(['Name','Department'])['Sales'].sum().reset_index().nlargest(3,'Sales')\n",
    "top3_sales"
   ]
  },
  {
   "cell_type": "markdown",
   "metadata": {},
   "source": [
    "####                                                             OR"
   ]
  },
  {
   "cell_type": "code",
   "execution_count": 6,
   "metadata": {},
   "outputs": [
    {
     "data": {
      "text/html": [
       "<div>\n",
       "<style scoped>\n",
       "    .dataframe tbody tr th:only-of-type {\n",
       "        vertical-align: middle;\n",
       "    }\n",
       "\n",
       "    .dataframe tbody tr th {\n",
       "        vertical-align: top;\n",
       "    }\n",
       "\n",
       "    .dataframe thead th {\n",
       "        text-align: right;\n",
       "    }\n",
       "</style>\n",
       "<table border=\"1\" class=\"dataframe\">\n",
       "  <thead>\n",
       "    <tr style=\"text-align: right;\">\n",
       "      <th></th>\n",
       "      <th>Name</th>\n",
       "      <th>Department</th>\n",
       "      <th>Sales</th>\n",
       "    </tr>\n",
       "  </thead>\n",
       "  <tbody>\n",
       "    <tr>\n",
       "      <th>12</th>\n",
       "      <td>Defonso, Daniel</td>\n",
       "      <td>5264-ARD Sales</td>\n",
       "      <td>450000</td>\n",
       "    </tr>\n",
       "    <tr>\n",
       "      <th>7</th>\n",
       "      <td>De Sousa, Kristi</td>\n",
       "      <td>5263-Sales Support</td>\n",
       "      <td>400000</td>\n",
       "    </tr>\n",
       "    <tr>\n",
       "      <th>11</th>\n",
       "      <td>De Sousa, Kristi</td>\n",
       "      <td>5263-Sales Support</td>\n",
       "      <td>400000</td>\n",
       "    </tr>\n",
       "  </tbody>\n",
       "</table>\n",
       "</div>"
      ],
      "text/plain": [
       "                Name          Department   Sales\n",
       "12   Defonso, Daniel      5264-ARD Sales  450000\n",
       "7   De Sousa, Kristi  5263-Sales Support  400000\n",
       "11  De Sousa, Kristi  5263-Sales Support  400000"
      ]
     },
     "execution_count": 6,
     "metadata": {},
     "output_type": "execute_result"
    }
   ],
   "source": [
    "sort_top3 = xls.sort_values(by='Sales', ascending=False).head(3)[['Name', 'Department', 'Sales']]\n",
    "sort_top3"
   ]
  },
  {
   "cell_type": "markdown",
   "metadata": {},
   "source": [
    "#### Q4.Replace \"DeRusha, Joe\" Name with \"John\" in D Column"
   ]
  },
  {
   "cell_type": "code",
   "execution_count": 7,
   "metadata": {},
   "outputs": [],
   "source": [
    "xls.loc[xls['Name']=='DeRusha, Joe','Name'] = 'John'"
   ]
  },
  {
   "cell_type": "markdown",
   "metadata": {},
   "source": [
    "#### Q5.Plot top 5 sales for each Region"
   ]
  },
  {
   "cell_type": "code",
   "execution_count": 24,
   "metadata": {},
   "outputs": [
    {
     "data": {
      "image/png": "[encoded data removed]",
      "text/plain": [
       "<Figure size 1200x600 with 1 Axes>"
      ]
     },
     "metadata": {},
     "output_type": "display_data"
    }
   ],
   "source": [
    "import matplotlib.pyplot as plt\n",
    "import numpy as np\n",
    "\n",
    "df1 = xls.groupby('Region')['Sales'].nlargest(5).reset_index()\n",
    "df_pl = df1[['Region','Sales']]\n",
    "\n",
    "plt.figure(figsize=(12, 6))\n",
    "\n",
    "\n",
    "for i, region in enumerate(df_pl['Region'].unique()):\n",
    "    \n",
    "    top_sales = df_pl[df_pl['Region'] == region]['Sales']\n",
    "    \n",
    "    plt.bar(np.arange(len(top_sales)) + i * 0.2, top_sales, width=0.2, label=region)\n",
    "\n",
    "\n",
    "plt.xlabel('Top 5 Sales')\n",
    "plt.ylabel('Sales Value')\n",
    "plt.title('Top 5 Sales by Region')\n",
    "plt.xticks(np.arange(5) + 0.2, [f'Sale {i+1}' for i in range(5)])\n",
    "plt.legend()\n",
    "\n",
    "plt.tight_layout()\n",
    "plt.show()\n"
   ]
  },
  {
   "cell_type": "markdown",
   "metadata": {},
   "source": [
    "#### Q6.Plot the chart -> percentage contribution of sales for Unique Name"
   ]
  },
  {
   "cell_type": "code",
   "execution_count": 25,
   "metadata": {},
   "outputs": [
    {
     "data": {
      "image/png": "[encoded data removed]",
      "text/plain": [
       "<Figure size 1200x600 with 1 Axes>"
      ]
     },
     "metadata": {},
     "output_type": "display_data"
    }
   ],
   "source": [
    "total_sales_per_name = xls.groupby('Name')['Sales'].sum()\n",
    "\n",
    "# Calculate percentage contribution of sales for each unique name\n",
    "percentage_contribution = (total_sales_per_name / total_sales_per_name.sum()) * 100\n",
    "\n",
    "# Sort by percentage contribution\n",
    "percentage_contribution_sorted = percentage_contribution.sort_values(ascending=False)\n",
    "\n",
    "# Plotting the bar chart\n",
    "plt.figure(figsize=(12, 6))\n",
    "percentage_contribution_sorted.plot(kind='bar', color='skyblue')\n",
    "\n",
    "# Adding labels and title\n",
    "plt.xlabel('Unique Name')\n",
    "plt.ylabel('Percentage Contribution of Sales')\n",
    "plt.title('Percentage Contribution of Sales for Unique Names')\n",
    "\n",
    "# Display the plot\n",
    "plt.xticks(rotation=45, ha='right')\n",
    "plt.tight_layout()\n",
    "plt.show()\n"
   ]
  },
  {
   "cell_type": "code",
   "execution_count": 26,
   "metadata": {},
   "outputs": [
    {
     "data": {
      "text/plain": [
       "Name\n",
       "De Sousa, Kristi        23.880597\n",
       "Dunton, Donna           17.910448\n",
       "Defonso, Daniel         13.432836\n",
       "Dobbert, Susan          11.940299\n",
       "De Vries, John          10.447761\n",
       "De Pasquale, Richard     8.955224\n",
       "Dillard, Susan           7.462687\n",
       "John                     5.970149\n",
       "Name: Sales, dtype: float64"
      ]
     },
     "execution_count": 26,
     "metadata": {},
     "output_type": "execute_result"
    }
   ],
   "source": [
    "percentage_contribution_sorted"
   ]
  }
 ],
 "metadata": {
  "kernelspec": {
   "display_name": "statxo",
   "language": "python",
   "name": "python3"
  },
  "language_info": {
   "codemirror_mode": {
    "name": "ipython",
    "version": 3
   },
   "file_extension": ".py",
   "mimetype": "text/x-python",
   "name": "python",
   "nbconvert_exporter": "python",
   "pygments_lexer": "ipython3",
   "version": "3.12.3"
  }
 },
 "nbformat": 4,
 "nbformat_minor": 2
}
